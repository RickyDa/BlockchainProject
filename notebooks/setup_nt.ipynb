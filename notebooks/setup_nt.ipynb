{
 "cells": [
  {
   "cell_type": "code",
   "execution_count": 11,
   "metadata": {},
   "outputs": [],
   "source": [
    "import boto3\n",
    "from botocore.exceptions import ClientError"
   ]
  },
  {
   "cell_type": "code",
   "execution_count": 15,
   "metadata": {},
   "outputs": [],
   "source": [
    "def create_db(table_name,keys):\n",
    "    dynamodb = boto3.resource('dynamodb')\n",
    "    try:\n",
    "        table = dynamodb.create_table(\n",
    "            TableName=table_name,\n",
    "            KeySchema=[{'AttributeName': k[0],\n",
    "                        'KeyType':k[1]} for k in keys],\n",
    "\n",
    "            AttributeDefinitions=[{'AttributeName': k[0],\n",
    "                                   'AttributeType':k[2]} for k in keys],\n",
    "\n",
    "            ProvisionedThroughput={\n",
    "                'ReadCapacityUnits': 10,\n",
    "                'WriteCapacityUnits': 10})\n",
    "\n",
    "        table.meta.client.get_waiter('table_exists').wait(TableName=table_name)\n",
    "        return table\n",
    "    except dynamodb.meta.client.exceptions.ResourceInUseException:\n",
    "        print(f'{table_name} DB Already exists')\n",
    "        return dynamodb.Table(table_name)\n",
    "    \n",
    "    \n",
    "def create_sqs(name):\n",
    "    sqs = boto3.resource('sqs')\n",
    "    return sqs.create_queue(QueueName=name)\n",
    "\n",
    "     \n",
    "def create_bucket(bucket_name, region=None):\n",
    "    try:\n",
    "        if region is None:\n",
    "            s3_client = boto3.client('s3')\n",
    "            s3_client.create_bucket(Bucket=bucket_name)\n",
    "        else:\n",
    "            s3_client = boto3.client('s3', region_name=region)\n",
    "            location = {'LocationConstraint': region}\n",
    "            s3_client.create_bucket(Bucket=bucket_name,\n",
    "                                    CreateBucketConfiguration=location)\n",
    "    except ClientError as e:\n",
    "        print(e)\n",
    "        return False\n",
    "    return True"
   ]
  },
  {
   "cell_type": "code",
   "execution_count": 16,
   "metadata": {},
   "outputs": [],
   "source": [
    "queue_name = 'transactions'\n",
    "\n",
    "region = 'eu-central-1'\n",
    "blocks_bucket = 'dsblocks'\n",
    "\n",
    "transaction_table_name = 'transactions'\n",
    "transaction_keys = [('transaction_id','HASH','S')] # (COL_NAME, KEY_TYPE, ATTR_TYPE)\n",
    "\n",
    "user_table_name = 'users'\n",
    "user_keys = [('user_email','HASH','S')] # (COL_NAME, KEY_TYPE, ATTR_TYPE)\n"
   ]
  },
  {
   "cell_type": "code",
   "execution_count": 17,
   "metadata": {},
   "outputs": [
    {
     "name": "stdout",
     "output_type": "stream",
     "text": [
      "users DB Already exists\n",
      "transactions DB Already exists\n",
      "An error occurred (BucketAlreadyOwnedByYou) when calling the CreateBucket operation: Your previous request to create the named bucket succeeded and you already own it.\n"
     ]
    },
    {
     "data": {
      "text/plain": [
       "sqs.Queue(url='https://eu-central-1.queue.amazonaws.com/471930285717/transactions')"
      ]
     },
     "execution_count": 17,
     "metadata": {},
     "output_type": "execute_result"
    }
   ],
   "source": [
    "create_db(user_table_name, user_keys)\n",
    "create_db(transaction_table_name, transaction_keys)\n",
    "create_bucket(blocks_bucket, region)\n",
    "create_sqs(queue_name)"
   ]
  },
  {
   "cell_type": "code",
   "execution_count": null,
   "metadata": {},
   "outputs": [],
   "source": []
  }
 ],
 "metadata": {
  "kernelspec": {
   "display_name": "Python 3",
   "language": "python",
   "name": "python3"
  },
  "language_info": {
   "codemirror_mode": {
    "name": "ipython",
    "version": 3
   },
   "file_extension": ".py",
   "mimetype": "text/x-python",
   "name": "python",
   "nbconvert_exporter": "python",
   "pygments_lexer": "ipython3",
   "version": "3.7.3"
  }
 },
 "nbformat": 4,
 "nbformat_minor": 4
}
