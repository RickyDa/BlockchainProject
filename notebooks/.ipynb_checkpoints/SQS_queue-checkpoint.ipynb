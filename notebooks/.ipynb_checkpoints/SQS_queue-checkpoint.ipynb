{
 "cells": [
  {
   "cell_type": "code",
   "execution_count": 1,
   "metadata": {},
   "outputs": [],
   "source": [
    "import boto3\n",
    "from datetime import datetime"
   ]
  },
  {
   "cell_type": "code",
   "execution_count": 2,
   "metadata": {},
   "outputs": [],
   "source": [
    "class Transaction:\n",
    "\n",
    "    def __init__(self, src, dst, amount, signed=False, transaction_id=None):\n",
    "\n",
    "        if transaction_id is None:\n",
    "            self.transaction_id = str(hash(datetime.now().strftime(\"%d/%m/%Y %H:%M:%S\")))\n",
    "        else:\n",
    "            self.transaction_id = transaction_id\n",
    "\n",
    "        self.src = src\n",
    "        self.dst = dst\n",
    "        self.amount = amount\n",
    "        self.signed = signed\n",
    "\n",
    "    def __repr__(self):\n",
    "        return f'transaction_id:{self.transaction_id} ' \\\n",
    "               f'src:{self.src}, ' \\\n",
    "               f'dst:{self.dst}, ' \\\n",
    "               f'amount:{self.amount}, ' \\\n",
    "               f'signed:{self.signed}'\n",
    "    \n",
    "    def serialize(self):\n",
    "        return dict(\n",
    "            transaction_id={\n",
    "                'StringValue': f'{self.transaction_id}',\n",
    "                'DataType': 'String'\n",
    "            },   \n",
    "            src={\n",
    "                'StringValue': f'{self.src}',\n",
    "                'DataType': 'String'\n",
    "            },\n",
    "            dst={\n",
    "                'StringValue': f'{self.dst}',\n",
    "                'DataType': 'String'\n",
    "            },\n",
    "            amount={\n",
    "                'StringValue': f'{self.amount}',\n",
    "                'DataType': 'Number'\n",
    "            }, \n",
    "            signed={\n",
    "                'StringValue': f'{int(self.signed)}',\n",
    "                'DataType': 'Number'\n",
    "            }\n",
    "        )\n",
    "\n",
    "\n",
    "def convert_transaction(item):\n",
    "    amount = int(item['amount'])\n",
    "    src = item['src']\n",
    "    trasanction_id = item['transaction_id']\n",
    "    dst = item['dst']\n",
    "    signed = item['signed']\n",
    "    return Transaction(src=src, dst=dst, amount=amount, signed=signed, transaction_id=trasanction_id)"
   ]
  },
  {
   "cell_type": "markdown",
   "metadata": {},
   "source": [
    "# Create Queue"
   ]
  },
  {
   "cell_type": "code",
   "execution_count": 3,
   "metadata": {},
   "outputs": [],
   "source": [
    "Q_NAME = 'transactions'"
   ]
  },
  {
   "cell_type": "code",
   "execution_count": 4,
   "metadata": {},
   "outputs": [
    {
     "data": {
      "text/plain": [
       "'https://eu-central-1.queue.amazonaws.com/471930285717/transactions'"
      ]
     },
     "execution_count": 4,
     "metadata": {},
     "output_type": "execute_result"
    }
   ],
   "source": [
    "def create_ledger_sqs(name=Q_NAME):\n",
    "    sqs = boto3.resource('sqs')\n",
    "    # Get the service resource\n",
    "    sqs = boto3.resource('sqs')\n",
    "\n",
    "    # Create the queue. This returns an SQS.Queue instance\n",
    "    return sqs.create_queue(QueueName=name)\n",
    "\n",
    "\n",
    "ledger = create_ledger_sqs()\n",
    "ledger.url"
   ]
  },
  {
   "cell_type": "markdown",
   "metadata": {},
   "source": [
    "# Get Existing Queue"
   ]
  },
  {
   "cell_type": "code",
   "execution_count": 5,
   "metadata": {},
   "outputs": [
    {
     "name": "stdout",
     "output_type": "stream",
     "text": [
      "https://eu-central-1.queue.amazonaws.com/471930285717/transactions\n",
      "0\n"
     ]
    }
   ],
   "source": [
    "# Get the service resource\n",
    "sqs = boto3.resource('sqs')\n",
    "\n",
    "# Get the queue. This returns an SQS.Queue instance\n",
    "queue = sqs.get_queue_by_name(QueueName=Q_NAME)\n",
    "\n",
    "# You can now access identifiers and attributes\n",
    "print(queue.url)\n",
    "print(queue.attributes.get('DelaySeconds'))"
   ]
  },
  {
   "cell_type": "markdown",
   "metadata": {},
   "source": [
    "# Sending messages"
   ]
  },
  {
   "cell_type": "code",
   "execution_count": 22,
   "metadata": {},
   "outputs": [],
   "source": [
    "transactions = [Transaction('Ricky1', 'Ricky2', 30,transaction_id=2),\n",
    "                Transaction('Ricky5', 'Ricky2', 30,transaction_id=1),\n",
    "                Transaction('Ricky4', 'Ricky2', 30,transaction_id=3),\n",
    "                Transaction('Ricky9', 'Ricky2', 30,transaction_id=4),\n",
    "                Transaction('Ricky6', 'Ricky2', 30,transaction_id=5),\n",
    "                Transaction('Ricky1', 'Ricky2', 30,transaction_id=6),\n",
    "                Transaction('Ricky1', 'Ricky7', 30,transaction_id=7), \n",
    "                Transaction('Ricky1', 'Ricky9', 30,transaction_id=8),Transaction('Ricky1', 'Ricky9', 30,transaction_id=8),\n",
    "               Transaction('Ricky1', 'Ricky9', 30,transaction_id=8)]"
   ]
  },
  {
   "cell_type": "code",
   "execution_count": 23,
   "metadata": {},
   "outputs": [],
   "source": [
    "sqs = boto3.resource('sqs')\n",
    "queue = sqs.get_queue_by_name(QueueName=Q_NAME)\n",
    "\n",
    "for id,tr in enumerate(transactions):\n",
    "    response = queue.send_message(MessageBody = f'transaction{id}',\n",
    "                                  MessageAttributes = tr.serialize())\n"
   ]
  },
  {
   "cell_type": "markdown",
   "metadata": {},
   "source": [
    "# Get Messages"
   ]
  },
  {
   "cell_type": "code",
   "execution_count": 24,
   "metadata": {},
   "outputs": [],
   "source": [
    "import time"
   ]
  },
  {
   "cell_type": "code",
   "execution_count": 25,
   "metadata": {},
   "outputs": [
    {
     "name": "stdout",
     "output_type": "stream",
     "text": [
      "Hello, transaction6! (Ricky1)-> (Ricky7)\n",
      "1\n",
      "Hello, transaction2! (Ricky4)-> (Ricky2)\n",
      "1\n",
      "Hello, transaction4! (Ricky6)-> (Ricky2)\n",
      "1\n",
      "Hello, transaction0! (Ricky1)-> (Ricky2)\n",
      "1\n",
      "Hello, transaction7! (Ricky1)-> (Ricky9)\n",
      "1\n",
      "Hello, transaction5! (Ricky1)-> (Ricky2)\n",
      "1\n",
      "Hello, transaction1! (Ricky5)-> (Ricky2)\n",
      "1\n",
      "Hello, transaction3! (Ricky9)-> (Ricky2)\n",
      "1\n",
      "0\n"
     ]
    }
   ],
   "source": [
    "# Get the service resource\n",
    "sqs = boto3.resource('sqs')\n",
    "\n",
    "# Get the queue\n",
    "queue = sqs.get_queue_by_name(QueueName=Q_NAME)\n",
    "# Process messages by printing out body and optional author name\n",
    "response = [0]\n",
    "message_count = 0\n",
    "while len(response) > 0 and message_count < 10:\n",
    "    response = queue.receive_messages(MessageAttributeNames=['All'])\n",
    "    for message in response:\n",
    "        # Get the custom author message attribute if it was set\n",
    "        author_text = ''\n",
    "        if message.message_attributes is not None:\n",
    "            author_name = message.message_attributes.get('src').get('StringValue')\n",
    "            dst_name = message.message_attributes.get('dst').get('StringValue')\n",
    "            if author_name:\n",
    "                author_text = ' ({0})'.format(author_name)\n",
    "                dst_text = ' ({0})'.format(dst_name)\n",
    "\n",
    "        # Print out the body and author (if set)\n",
    "        print('Hello, {0}!{1}->{2}'.format(message.body, author_text, dst_text))\n",
    "        message.delete()\n",
    "        message_count+=1\n",
    "    time.sleep(2)\n",
    "#     # Let the queue know that the message is processed\n",
    "    "
   ]
  },
  {
   "cell_type": "code",
   "execution_count": 9,
   "metadata": {},
   "outputs": [],
   "source": [
    "queue = sqs.get_queue_by_name(QueueName=Q_NAME)"
   ]
  },
  {
   "cell_type": "code",
   "execution_count": 13,
   "metadata": {},
   "outputs": [],
   "source": [
    "messages = queue.receive_messages(MessageAttributeNames=['All'], MaxNumberOfMessages=8)"
   ]
  },
  {
   "cell_type": "code",
   "execution_count": 14,
   "metadata": {},
   "outputs": [
    {
     "data": {
      "text/plain": [
       "[sqs.Message(queue_url='https://eu-central-1.queue.amazonaws.com/471930285717/transactions', receipt_handle='AQEB9rqss/BsB9KfQ+3EFYcwcgtu6ecqEd3RiRYVOcDYJQc9fUbi0UCMl2A3qee/7lNn3TnZNgfLSLOZQtPWQ4lZyb/0L/vYNnMcFmhw61W1T932+0VeJKbj62A3/pIB6mjCXLdSXjSngbQmaHNZ4r6vRXg1RD88+A83w3HY/cSf7yEnwAf3tfN6jGHgGwIF856lfy0UHpRX3U0jgHtLcjvgPaAes4QCIlCJootM0vk5udNEcCXZt5nXCHfYfQg47b7Rq6YRCL7tsI1PFZS91kGF2jhBAWru1j9oDQH0QIknjzNEstp6SUO/lGTuAfGKCWISBGSnps+PjA0fhayrKLgtgxEQfdnmxl56Y96lchmNxLhH+VfLJUURL/FmyhPDkuK8h1QAqaEh+ps+oVg2uai0ZQ==')]"
      ]
     },
     "execution_count": 14,
     "metadata": {},
     "output_type": "execute_result"
    }
   ],
   "source": [
    "messages"
   ]
  },
  {
   "cell_type": "code",
   "execution_count": 310,
   "metadata": {},
   "outputs": [
    {
     "data": {
      "text/plain": [
       "{'transaction_id': {'StringValue': '2', 'DataType': 'String'},\n",
       " 'src': {'StringValue': 'Ricky1', 'DataType': 'String'},\n",
       " 'dst': {'StringValue': 'Ricky2', 'DataType': 'String'},\n",
       " 'amount': {'StringValue': '30', 'DataType': 'Number'},\n",
       " 'signed': {'StringValue': '0', 'DataType': 'Number'}}"
      ]
     },
     "execution_count": 310,
     "metadata": {},
     "output_type": "execute_result"
    }
   ],
   "source": [
    "transactions[0].serialize()"
   ]
  },
  {
   "cell_type": "code",
   "execution_count": null,
   "metadata": {},
   "outputs": [],
   "source": []
  }
 ],
 "metadata": {
  "kernelspec": {
   "display_name": "Python 3",
   "language": "python",
   "name": "python3"
  },
  "language_info": {
   "codemirror_mode": {
    "name": "ipython",
    "version": 3
   },
   "file_extension": ".py",
   "mimetype": "text/x-python",
   "name": "python",
   "nbconvert_exporter": "python",
   "pygments_lexer": "ipython3",
   "version": "3.7.3"
  }
 },
 "nbformat": 4,
 "nbformat_minor": 4
}
