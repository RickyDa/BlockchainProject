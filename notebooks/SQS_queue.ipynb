{
 "cells": [
  {
   "cell_type": "code",
   "execution_count": 115,
   "metadata": {},
   "outputs": [],
   "source": [
    "import boto3\n",
    "from botocore.exceptions import ClientError\n",
    "from datetime import datetime\n",
    "import re\n",
    "import time\n",
    "\n"
   ]
  },
  {
   "cell_type": "code",
   "execution_count": 109,
   "metadata": {},
   "outputs": [],
   "source": [
    "class Transaction:\n",
    "\n",
    "    def __init__(self, src, dst, amount, signed=False, transaction_id=None):\n",
    "\n",
    "        if transaction_id is None:\n",
    "            self.transaction_id = str(hash(datetime.now().strftime(\"%d/%m/%Y %H:%M:%S\")))\n",
    "        else:\n",
    "            self.transaction_id = transaction_id\n",
    "\n",
    "        self.src = src\n",
    "        self.dst = dst\n",
    "        self.amount = amount\n",
    "        self.signed = signed\n",
    "\n",
    "    def __repr__(self):\n",
    "        return f'transaction_id:{self.transaction_id} ' \\\n",
    "               f'src:{self.src}, ' \\\n",
    "               f'dst:{self.dst}, ' \\\n",
    "               f'amount:{self.amount}, ' \\\n",
    "               f'signed:{self.signed}'\n",
    "    \n",
    "    def serialize(self):\n",
    "        return dict(\n",
    "            transaction_id={\n",
    "                'StringValue': f'{self.transaction_id}',\n",
    "                'DataType': 'String'\n",
    "            },   \n",
    "            src={\n",
    "                'StringValue': f'{self.src}',\n",
    "                'DataType': 'String'\n",
    "            },\n",
    "            dst={\n",
    "                'StringValue': f'{self.dst}',\n",
    "                'DataType': 'String'\n",
    "            },\n",
    "            amount={\n",
    "                'StringValue': f'{self.amount}',\n",
    "                'DataType': 'Number'\n",
    "            }, \n",
    "            signed={\n",
    "                'StringValue': f'{int(self.signed)}',\n",
    "                'DataType': 'Number'\n",
    "            }\n",
    "        )\n",
    "\n",
    "\n",
    "def convert_transaction(item):\n",
    "    amount = int(item['amount'])\n",
    "    src = item['src']\n",
    "    trasanction_id = item['transaction_id']\n",
    "    dst = item['dst']\n",
    "    signed = item['signed']\n",
    "    return Transaction(src=src, dst=dst, amount=amount, signed=signed, transaction_id=trasanction_id)\n",
    "\n",
    "\n",
    "def create_transaction(transaction, table_name='transactions'):\n",
    "    dynamodb = boto3.resource('dynamodb')\n",
    "    table = dynamodb.Table(table_name)\n",
    "    return table.put_item(Item=transaction.__dict__)\n",
    "\n",
    "def create_sqs(name):\n",
    "    sqs = boto3.resource('sqs')\n",
    "    return sqs.create_queue(QueueName=name)\n",
    "\n",
    "\n",
    "def create_nodes_db(table_name):\n",
    "    dynamodb = boto3.resource('dynamodb')\n",
    "    try:\n",
    "        table = dynamodb.create_table(\n",
    "                    TableName=table_name,\n",
    "                    KeySchema=[{'AttributeName':k[0],\n",
    "                                'KeyType':k[1]} for k in KEYS],\n",
    "\n",
    "                    AttributeDefinitions=[{'AttributeName':k[0],\n",
    "                                           'AttributeType':k[2]} for k in KEYS],\n",
    "\n",
    "                    ProvisionedThroughput={\n",
    "                        'ReadCapacityUnits': RW_CAPACITY,\n",
    "                        'WriteCapacityUnits': RW_CAPACITY})\n",
    "\n",
    "\n",
    "        table.meta.client.get_waiter('table_exists').wait(TableName=TABLE_NAME)\n",
    "        return table\n",
    "    except dynamodb.meta.client.exceptions.ResourceInUseException:\n",
    "        print(f'{TABLE_NAME} DB Already exists')\n",
    "        return dynamodb.Table(TABLE_NAME)\n",
    "     \n",
    "def create_bucket(bucket_name, region=None):\n",
    "    try:\n",
    "        if region is None:\n",
    "            s3_client = boto3.client('s3')\n",
    "            s3_client.create_bucket(Bucket=bucket_name)\n",
    "        else:\n",
    "            s3_client = boto3.client('s3', region_name=region)\n",
    "            location = {'LocationConstraint': region}\n",
    "            s3_client.create_bucket(Bucket=bucket_name,\n",
    "                                    CreateBucketConfiguration=location)\n",
    "    except ClientError as e:\n",
    "        logging.error(e)\n",
    "        return False\n",
    "    return True"
   ]
  },
  {
   "cell_type": "markdown",
   "metadata": {},
   "source": [
    "# Create Queue,Table and Bucket"
   ]
  },
  {
   "cell_type": "code",
   "execution_count": 110,
   "metadata": {},
   "outputs": [],
   "source": [
    "Q_NAME = 'transactions'\n",
    "\n",
    "KEYS = [('transaction_id','HASH','S')] # (COL_NAME, KEY_TYPE, ATTR_TYPE)\n",
    "TABLE_NAME = 'transactions'\n",
    "RW_CAPACITY = 10\n",
    "REGION = 'eu-central-1'\n",
    "BUCKET_NAME = 'dsblocks'"
   ]
  },
  {
   "cell_type": "code",
   "execution_count": 111,
   "metadata": {},
   "outputs": [
    {
     "name": "stdout",
     "output_type": "stream",
     "text": [
      "transactions DB Already exists\n"
     ]
    },
    {
     "data": {
      "text/plain": [
       "True"
      ]
     },
     "execution_count": 111,
     "metadata": {},
     "output_type": "execute_result"
    }
   ],
   "source": [
    "ledger = create_sqs(Q_NAME)\n",
    "table = create_nodes_db(TABLE_NAME)\n",
    "create_bucket(BUCKET_NAME,REGION)"
   ]
  },
  {
   "cell_type": "markdown",
   "metadata": {},
   "source": [
    "# Sending messages"
   ]
  },
  {
   "cell_type": "code",
   "execution_count": 117,
   "metadata": {},
   "outputs": [],
   "source": [
    "transactions = [Transaction('Ricky1', 'Ricky2', 30,transaction_id='2', signed=True),\n",
    "                Transaction('Ricky5', 'Ricky2', 30,transaction_id='1', signed=True),\n",
    "                Transaction('Ricky4', 'Ricky2', 30,transaction_id='3', signed=True),\n",
    "                Transaction('Ricky9', 'Ricky2', 30,transaction_id='4', signed=True),\n",
    "                Transaction('Ricky6', 'Ricky2', 30,transaction_id='5', signed=True),\n",
    "                Transaction('Ricky1', 'Ricky2', 30,transaction_id='6', signed=True),\n",
    "                Transaction('Ricky1', 'Ricky7', 30,transaction_id='7', signed=True), \n",
    "                Transaction('Ricky1', 'Ricky9', 30,transaction_id='8', signed=True),\n",
    "                Transaction('Ricky1', 'Ricky9', 30,transaction_id='10', signed=True),\n",
    "                Transaction('Ricky1', 'Ricky9', 30,transaction_id='11', signed=True),\n",
    "                Transaction('Ricky1', 'Ricky9', 30,transaction_id='9', signed=True)]"
   ]
  },
  {
   "cell_type": "code",
   "execution_count": 122,
   "metadata": {},
   "outputs": [],
   "source": [
    "sqs = boto3.resource('sqs')\n",
    "queue = sqs.get_queue_by_name(QueueName=Q_NAME)\n",
    "\n",
    "for id,tr in enumerate(transactions):\n",
    "    create_transaction(tr)\n",
    "    response = queue.send_message(MessageBody = f'transaction{id+1}',\n",
    "                                  MessageAttributes = tr.serialize())\n"
   ]
  },
  {
   "cell_type": "markdown",
   "metadata": {},
   "source": [
    "# Get Messages and write attributes to file\n",
    "Cron function"
   ]
  },
  {
   "cell_type": "code",
   "execution_count": 123,
   "metadata": {},
   "outputs": [
    {
     "name": "stdout",
     "output_type": "stream",
     "text": [
      "20 TRANSACTIONS SIGNED TO BLOCK\n"
     ]
    }
   ],
   "source": [
    "TRANSACTION_LIMIT = 20\n",
    "\n",
    "def transactions_to_file(block):\n",
    "    file_name = datetime.now().strftime(\"%m/%d/%Y_%H:%M:%S\")\n",
    "    file_name = f\"{re.sub(r'[,/:]','_', file_name)}.txt\"\n",
    "    tids = []\n",
    "    with open(file_name,\"w\") as f:\n",
    "        for b in block:\n",
    "            tid= b['transaction_id']['StringValue']\n",
    "            f.write(f\"{tid}, \"\\\n",
    "                      f\"src: {b['src']['StringValue']}, \"\\\n",
    "                      f\"dst: {b['dst']['StringValue']}, \"\\\n",
    "                      f\"amount: {b['amount']['StringValue']}\\n\")\n",
    "            tids.append(tid)\n",
    "    return file_name, tids\n",
    "\n",
    "def upload_block(file_name, object_name=None):\n",
    "    if object_name is None:\n",
    "        object_name = file_name\n",
    "\n",
    "    # Upload the file\n",
    "    s3_client = boto3.client('s3')\n",
    "    try:\n",
    "        response = s3_client.upload_file(file_name, BUCKET_NAME, object_name)\n",
    "    except ClientError as e:\n",
    "        print(e)\n",
    "        return False\n",
    "    return True\n",
    "\n",
    "def delete_transactions(tids):\n",
    "    dynamodb = boto3.resource('dynamodb')\n",
    "    table = dynamodb.Table('transactions')\n",
    "    for tid in tids:\n",
    "        table.delete_item(Key={'transaction_id': tid})\n",
    "\n",
    "def add_block():\n",
    "    sqs = boto3.resource('sqs')\n",
    "    queue = sqs.get_queue_by_name(QueueName=Q_NAME)\n",
    "\n",
    "    response = [0]\n",
    "    message_count = 0\n",
    "    block = []\n",
    "\n",
    "    while len(response) > 0 and message_count < TRANSACTION_LIMIT:\n",
    "        response = queue.receive_messages(MessageAttributeNames=['All'])\n",
    "        for message in response:\n",
    "\n",
    "            if message.message_attributes is not None:\n",
    "                block.append(message.message_attributes)\n",
    "\n",
    "            message.delete()\n",
    "            message_count+=1\n",
    "\n",
    "    if message_count > 0:\n",
    "        block_name, tids = transactions_to_file(block)\n",
    "        upload_block(block_name)\n",
    "        delete_transactions(tids)\n",
    "        print(f\"{message_count} TRANSACTIONS SIGNED TO BLOCK\")\n",
    "    else:\n",
    "        print(\"NO TRANSACTIONS\")\n",
    "            \n",
    "add_block()"
   ]
  },
  {
   "cell_type": "code",
   "execution_count": null,
   "metadata": {},
   "outputs": [],
   "source": [
    "\n"
   ]
  }
 ],
 "metadata": {
  "kernelspec": {
   "display_name": "Python 3",
   "language": "python",
   "name": "python3"
  },
  "language_info": {
   "codemirror_mode": {
    "name": "ipython",
    "version": 3
   },
   "file_extension": ".py",
   "mimetype": "text/x-python",
   "name": "python",
   "nbconvert_exporter": "python",
   "pygments_lexer": "ipython3",
   "version": "3.7.3"
  }
 },
 "nbformat": 4,
 "nbformat_minor": 4
}
