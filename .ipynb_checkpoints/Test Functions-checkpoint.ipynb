{
 "cells": [
  {
   "cell_type": "markdown",
   "metadata": {},
   "source": [
    "# Before runing the notebook make sure u have aws configuration\n",
    ">- edit Access key ID\n",
    "- edit Secret access key\n"
   ]
  },
  {
   "cell_type": "code",
   "execution_count": 1,
   "metadata": {},
   "outputs": [],
   "source": [
    "import boto3\n",
    "import botocore\n",
    "import paramiko"
   ]
  },
  {
   "cell_type": "markdown",
   "metadata": {},
   "source": [
    "# Initialize network\n",
    "---\n",
    "# Create dynamodb database"
   ]
  },
  {
   "cell_type": "code",
   "execution_count": 2,
   "metadata": {},
   "outputs": [],
   "source": [
    "\n",
    "KEYS = [('node_id','HASH','S'), ('node_dns','RANGE','S')] # (COL_NAME, KEY_TYPE, ATTR_TYPE)\n",
    "TABLE_NAME = 'nodes'\n",
    "RW_CAPACITY = 5\n",
    "\n",
    "def create_nodes_db():\n",
    "    dynamodb = boto3.resource('dynamodb')\n",
    "    try:\n",
    "        table = dynamodb.create_table(\n",
    "                    TableName=TABLE_NAME,\n",
    "                    KeySchema=[{'AttributeName':k[0],\n",
    "                                'KeyType':k[1]} for k in KEYS],\n",
    "\n",
    "                    AttributeDefinitions=[{'AttributeName':k[0],\n",
    "                                           'AttributeType':k[2]} for k in KEYS],\n",
    "\n",
    "                    ProvisionedThroughput={\n",
    "                        'ReadCapacityUnits': RW_CAPACITY,\n",
    "                        'WriteCapacityUnits': RW_CAPACITY})\n",
    "\n",
    "\n",
    "        table.meta.client.get_waiter('table_exists').wait(TableName=TABLE_NAME)\n",
    "        return table\n",
    "    except dynamodb.meta.client.exceptions.ResourceInUseException:\n",
    "        print(f'{TABLE_NAME} DB Already exists')\n",
    "        return dynamodb.Table(TABLE_NAME)\n",
    "     \n",
    "table = create_nodes_db()"
   ]
  },
  {
   "cell_type": "markdown",
   "metadata": {},
   "source": [
    "# Create buckets \n",
    "\n",
    "- **blockchain-utils** - files to run on launch\n",
    "    - upload the file init files to the buckets\n",
    "    - NOTE: Maybe image is all we need\n",
    "- **blocks** - where the blocks will be stored"
   ]
  },
  {
   "cell_type": "code",
   "execution_count": 39,
   "metadata": {},
   "outputs": [
    {
     "data": {
      "text/plain": [
       "True"
      ]
     },
     "execution_count": 39,
     "metadata": {},
     "output_type": "execute_result"
    }
   ],
   "source": [
    "def create_bucket(bucket_name, region='eu-central-1'):\n",
    "    # Create bucket\n",
    "    try:\n",
    "        s3_client = boto3.client('s3', region_name=region)\n",
    "        location = {'LocationConstraint': region}\n",
    "        s3_client.create_bucket(Bucket=bucket_name,\n",
    "                                CreateBucketConfiguration=location)\n",
    "    except ClientError as e:\n",
    "        print(e)\n",
    "        return False\n",
    "    return True\n",
    "\n",
    "# create_bucket('blockchain-utils')\n",
    "create_bucket('ds-blocks')"
   ]
  },
  {
   "cell_type": "code",
   "execution_count": 6,
   "metadata": {},
   "outputs": [
    {
     "name": "stdout",
     "output_type": "stream",
     "text": [
      "total 42\n",
      "drwxr-xr-x 1 Ricky 197609    0 Aug 13 13:57 .\n",
      "drwxr-xr-x 1 Ricky 197609    0 Aug 12 16:39 ..\n",
      "drwxr-xr-x 1 Ricky 197609    0 Aug 12 18:59 .git\n",
      "drwxr-xr-x 1 Ricky 197609    0 Aug 12 12:38 .idea\n",
      "drwxr-xr-x 1 Ricky 197609    0 Aug 12 13:07 .ipynb_checkpoints\n",
      "drwxr-xr-x 1 Ricky 197609    0 Aug 12 13:49 __pycache__\n",
      "-rw-r--r-- 1 Ricky 197609 2369 Aug 13 13:44 init_user_instance.py\n",
      "-rw-r--r-- 1 Ricky 197609 6944 Aug 13 13:40 node.py\n",
      "-rw-r--r-- 1 Ricky 197609   19 Aug 12 12:38 README.md\n",
      "-rw-r--r-- 1 Ricky 197609  277 Aug 13 12:38 setup_network.py\n",
      "-rw-r--r-- 1 Ricky 197609 9249 Aug 13 13:57 Test Functions.ipynb\n"
     ]
    }
   ],
   "source": [
    "!ls -all"
   ]
  },
  {
   "cell_type": "markdown",
   "metadata": {},
   "source": [
    "# Create SQS \n",
    "- Ledger - where the signed transcation will be stored"
   ]
  },
  {
   "cell_type": "code",
   "execution_count": 3,
   "metadata": {},
   "outputs": [
    {
     "data": {
      "text/plain": [
       "'https://eu-central-1.queue.amazonaws.com/471930285717/ledger.fifo'"
      ]
     },
     "execution_count": 3,
     "metadata": {},
     "output_type": "execute_result"
    }
   ],
   "source": [
    "def create_ledger_sqs(name='ledger'):\n",
    "    sqs = boto3.resource('sqs')\n",
    "    \n",
    "    private_sqs_params = dict(\n",
    "      QueueName=f'{name}.fifo',\n",
    "      Attributes={\n",
    "          'FifoQueue': 'True'\n",
    "      },\n",
    "    )\n",
    "    return sqs.create_queue(**private_sqs_params)\n",
    "\n",
    "ledger = create_ledger_sqs()\n",
    "ledger.url"
   ]
  },
  {
   "cell_type": "markdown",
   "metadata": {},
   "source": [
    "# Create N user Instances\n"
   ]
  },
  {
   "cell_type": "code",
   "execution_count": 28,
   "metadata": {},
   "outputs": [
    {
     "name": "stdout",
     "output_type": "stream",
     "text": [
      "ec2 Created Successfully\n"
     ]
    },
    {
     "data": {
      "text/plain": [
       "True"
      ]
     },
     "execution_count": 28,
     "metadata": {},
     "output_type": "execute_result"
    }
   ],
   "source": [
    "from botocore.exceptions import ClientError\n",
    "N = 4\n",
    "IMAGE_ID = 'ami-07e0b9cd44928fe2f' # Amazon Linux 2 AMI (HVM), SSD Volume Type (My AMI)\n",
    "KEY_NAME = 'DSKey' # edit to your name of <key-name>.pem file\n",
    "SECURITY_GROUP = ['launch-wizard-6']\n",
    "def create_instance(n_count=N):\n",
    "    ec2 = boto3.resource('ec2')\n",
    "\n",
    "    try:\n",
    "        ec2.create_instances(\n",
    "            ImageId=IMAGE_ID,\n",
    "            MinCount=n_count, # [Optional] Minimum instances to launch\n",
    "            MaxCount=n_count, # [Optional] Maximum instances to launch\n",
    "            InstanceType='t2.micro',\n",
    "            KeyName=KEY_NAME,\n",
    "            SecurityGroups=SECURITY_GROUP\n",
    "        )\n",
    "        print(f'ec2 Created Successfully')\n",
    "    except ClientError as e:\n",
    "        print(e)\n",
    "        print(f'\\nFailed to create instance')\n",
    "        return False\n",
    "    return True\n",
    "\n",
    "create_instance(n_count=1)"
   ]
  },
  {
   "cell_type": "code",
   "execution_count": 30,
   "metadata": {},
   "outputs": [
    {
     "data": {
      "text/plain": [
       "['ec2-18-156-171-46.eu-central-1.compute.amazonaws.com',\n",
       " '',\n",
       " '',\n",
       " '',\n",
       " '',\n",
       " 'ec2-18-159-133-171.eu-central-1.compute.amazonaws.com',\n",
       " 'ec2-18-159-135-38.eu-central-1.compute.amazonaws.com',\n",
       " 'ec2-18-159-224-44.eu-central-1.compute.amazonaws.com',\n",
       " 'ec2-18-185-90-122.eu-central-1.compute.amazonaws.com']"
      ]
     },
     "execution_count": 30,
     "metadata": {},
     "output_type": "execute_result"
    }
   ],
   "source": [
    "def get_instances():\n",
    "    instances = []\n",
    "    ec2 = boto3.client('ec2')\n",
    "    response = ec2.describe_instances()\n",
    "\n",
    "    for res in response['Reservations']:\n",
    "        for inst in res['Instances']:\n",
    "            instances.append(inst['PublicDnsName'])\n",
    "    return instances\n",
    "get_instances()"
   ]
  },
  {
   "cell_type": "code",
   "execution_count": null,
   "metadata": {},
   "outputs": [],
   "source": []
  },
  {
   "cell_type": "markdown",
   "metadata": {},
   "source": [
    "# Send CMD to instance to run\n",
    "\n",
    "-send cmd to each instance to download and run the file on s3"
   ]
  },
  {
   "cell_type": "code",
   "execution_count": 31,
   "metadata": {},
   "outputs": [
    {
     "name": "stdout",
     "output_type": "stream",
     "text": [
      "ec2-18-156-171-46.eu-central-1.compute.amazonaws.com\n",
      "total 20\n",
      "drwx------ 6 ec2-user ec2-user  164 Aug 13 13:28 .\n",
      "drwxr-xr-x 3 root     root       22 Aug 12 13:30 ..\n",
      "drwxrwxr-x 2 ec2-user ec2-user   39 Aug 12 13:46 .aws\n",
      "-rw------- 1 ec2-user ec2-user  951 Aug 13 13:50 .bash_history\n",
      "-rw-r--r-- 1 ec2-user ec2-user   18 Jan 16  2020 .bash_logout\n",
      "-rw-r--r-- 1 ec2-user ec2-user  193 Jan 16  2020 .bash_profile\n",
      "-rw-r--r-- 1 ec2-user ec2-user  231 Jan 16  2020 .bashrc\n",
      "drwxrwxr-x 3 ec2-user ec2-user   17 Aug 12 13:37 .cache\n",
      "-rw-rw-r-- 1 ec2-user ec2-user 2369 Aug 13 13:28 init_user_instance.py\n",
      "drwx------ 4 ec2-user ec2-user   28 Aug 13 10:06 .local\n",
      "drwx------ 2 ec2-user ec2-user   29 Aug 12 13:30 .ssh\n",
      "\n",
      "ec2-18-159-133-171.eu-central-1.compute.amazonaws.com\n",
      "total 20\n",
      "drwx------ 6 ec2-user ec2-user  164 Aug 13 13:28 .\n",
      "drwxr-xr-x 3 root     root       22 Aug 12 13:30 ..\n",
      "drwxrwxr-x 2 ec2-user ec2-user   39 Aug 12 13:46 .aws\n",
      "-rw------- 1 ec2-user ec2-user  951 Aug 13 13:50 .bash_history\n",
      "-rw-r--r-- 1 ec2-user ec2-user   18 Jan 16  2020 .bash_logout\n",
      "-rw-r--r-- 1 ec2-user ec2-user  193 Jan 16  2020 .bash_profile\n",
      "-rw-r--r-- 1 ec2-user ec2-user  231 Jan 16  2020 .bashrc\n",
      "drwxrwxr-x 3 ec2-user ec2-user   17 Aug 12 13:37 .cache\n",
      "-rw-rw-r-- 1 ec2-user ec2-user 2369 Aug 13 13:28 init_user_instance.py\n",
      "drwx------ 4 ec2-user ec2-user   28 Aug 13 10:06 .local\n",
      "drwx------ 2 ec2-user ec2-user   29 Aug 12 13:30 .ssh\n",
      "\n",
      "ec2-18-159-135-38.eu-central-1.compute.amazonaws.com\n",
      "total 20\n",
      "drwx------ 6 ec2-user ec2-user  164 Aug 13 13:28 .\n",
      "drwxr-xr-x 3 root     root       22 Aug 12 13:30 ..\n",
      "drwxrwxr-x 2 ec2-user ec2-user   39 Aug 12 13:46 .aws\n",
      "-rw------- 1 ec2-user ec2-user  951 Aug 13 13:50 .bash_history\n",
      "-rw-r--r-- 1 ec2-user ec2-user   18 Jan 16  2020 .bash_logout\n",
      "-rw-r--r-- 1 ec2-user ec2-user  193 Jan 16  2020 .bash_profile\n",
      "-rw-r--r-- 1 ec2-user ec2-user  231 Jan 16  2020 .bashrc\n",
      "drwxrwxr-x 3 ec2-user ec2-user   17 Aug 12 13:37 .cache\n",
      "-rw-rw-r-- 1 ec2-user ec2-user 2369 Aug 13 13:28 init_user_instance.py\n",
      "drwx------ 4 ec2-user ec2-user   28 Aug 13 10:06 .local\n",
      "drwx------ 2 ec2-user ec2-user   29 Aug 12 13:30 .ssh\n",
      "\n",
      "ec2-18-159-224-44.eu-central-1.compute.amazonaws.com\n",
      "total 20\n",
      "drwx------ 6 ec2-user ec2-user  164 Aug 13 13:28 .\n",
      "drwxr-xr-x 3 root     root       22 Aug 12 13:30 ..\n",
      "drwxrwxr-x 2 ec2-user ec2-user   39 Aug 12 13:46 .aws\n",
      "-rw------- 1 ec2-user ec2-user  951 Aug 13 13:50 .bash_history\n",
      "-rw-r--r-- 1 ec2-user ec2-user   18 Jan 16  2020 .bash_logout\n",
      "-rw-r--r-- 1 ec2-user ec2-user  193 Jan 16  2020 .bash_profile\n",
      "-rw-r--r-- 1 ec2-user ec2-user  231 Jan 16  2020 .bashrc\n",
      "drwxrwxr-x 3 ec2-user ec2-user   17 Aug 12 13:37 .cache\n",
      "-rw-rw-r-- 1 ec2-user ec2-user 2369 Aug 13 13:28 init_user_instance.py\n",
      "drwx------ 4 ec2-user ec2-user   28 Aug 13 10:06 .local\n",
      "drwx------ 2 ec2-user ec2-user   29 Aug 12 13:30 .ssh\n",
      "\n",
      "ec2-18-185-90-122.eu-central-1.compute.amazonaws.com\n",
      "total 20\n",
      "drwx------ 6 ec2-user ec2-user  164 Aug 13 13:28 .\n",
      "drwxr-xr-x 3 root     root       22 Aug 12 13:30 ..\n",
      "drwxrwxr-x 2 ec2-user ec2-user   39 Aug 12 13:46 .aws\n",
      "-rw------- 1 ec2-user ec2-user  951 Aug 13 13:50 .bash_history\n",
      "-rw-r--r-- 1 ec2-user ec2-user   18 Jan 16  2020 .bash_logout\n",
      "-rw-r--r-- 1 ec2-user ec2-user  193 Jan 16  2020 .bash_profile\n",
      "-rw-r--r-- 1 ec2-user ec2-user  231 Jan 16  2020 .bashrc\n",
      "drwxrwxr-x 3 ec2-user ec2-user   17 Aug 12 13:37 .cache\n",
      "-rw-rw-r-- 1 ec2-user ec2-user 2369 Aug 13 13:28 init_user_instance.py\n",
      "drwx------ 4 ec2-user ec2-user   28 Aug 13 10:06 .local\n",
      "drwx------ 2 ec2-user ec2-user   29 Aug 12 13:30 .ssh\n",
      "\n"
     ]
    }
   ],
   "source": [
    "PATH_TO_KEY = '../DSKey.pem'\n",
    "\n",
    "def send_cmd_to_instance(instance_public_dns, cmd):\n",
    "    key = paramiko.RSAKey.from_private_key_file(PATH_TO_KEY)\n",
    "    client = paramiko.SSHClient()\n",
    "    client.set_missing_host_key_policy(paramiko.AutoAddPolicy())\n",
    "\n",
    "    try:\n",
    "        client.connect(hostname=instance_public_dns, username=\"ec2-user\", pkey=key)\n",
    "        stdin, stdout, stderr = client.exec_command(cmd)\n",
    "        print(stdout.read().decode('utf-8'))\n",
    "        client.close()\n",
    "    except Exception as e:\n",
    "        print(e)\n",
    "\n",
    "for inst in get_instances():\n",
    "    if inst != '':\n",
    "        print(inst)\n",
    "        send_cmd_to_instance(instance_public_dns=inst,\n",
    "                             cmd='python3 init_user_instance.py')       \n"
   ]
  },
  {
   "cell_type": "code",
   "execution_count": 32,
   "metadata": {
    "scrolled": true
   },
   "outputs": [
    {
     "name": "stdout",
     "output_type": "stream",
     "text": [
      "total 20\n",
      "drwx------ 6 ec2-user ec2-user  164 Aug 13 13:28 .\n",
      "drwxr-xr-x 3 root     root       22 Aug 12 13:30 ..\n",
      "drwxrwxr-x 2 ec2-user ec2-user   39 Aug 12 13:46 .aws\n",
      "-rw------- 1 ec2-user ec2-user  951 Aug 13 13:50 .bash_history\n",
      "-rw-r--r-- 1 ec2-user ec2-user   18 Jan 16  2020 .bash_logout\n",
      "-rw-r--r-- 1 ec2-user ec2-user  193 Jan 16  2020 .bash_profile\n",
      "-rw-r--r-- 1 ec2-user ec2-user  231 Jan 16  2020 .bashrc\n",
      "drwxrwxr-x 3 ec2-user ec2-user   17 Aug 12 13:37 .cache\n",
      "-rw-rw-r-- 1 ec2-user ec2-user 2369 Aug 13 13:28 init_user_instance.py\n",
      "drwx------ 4 ec2-user ec2-user   28 Aug 13 10:06 .local\n",
      "drwx------ 2 ec2-user ec2-user   29 Aug 12 13:30 .ssh\n",
      "\n"
     ]
    }
   ],
   "source": [
    "send_cmd_to_instance('ec2-18-156-171-46.eu-central-1.compute.amazonaws.com', cmd='ls -all')"
   ]
  },
  {
   "cell_type": "markdown",
   "metadata": {},
   "source": [
    "# Init Instance test\n",
    "assumptions:\n",
    " - DB: Table 'node' were created\n"
   ]
  },
  {
   "cell_type": "code",
   "execution_count": null,
   "metadata": {},
   "outputs": [],
   "source": [
    "import time\n",
    "\n",
    "myMessages = None\n",
    "# Dummy funcs\n",
    "def get_instance_ID():\n",
    "    return 2\n",
    "def get_public_DNS():\n",
    "    return '127.0.0.2'\n",
    "\n",
    "def create_sqs():\n",
    "    private_sqs_params = dict(\n",
    "      QueueName=f'{get_instance_ID()}.fifo',\n",
    "      Attributes={\n",
    "          'FifoQueue': 'True'\n",
    "      },\n",
    "    )\n",
    "    \n",
    "    # Get the service resource\n",
    "    sqs = boto3.resource('sqs')\n",
    "    return sqs.create_queue(**private_sqs_params)\n",
    "    \n",
    "def init_instance(table = 'nodes'):\n",
    "    myMessages = create_sqs()\n",
    "    dynamodb = boto3.resource('dynamodb')\n",
    "    while True:\n",
    "        try:\n",
    "            \n",
    "            table = dynamodb.Table(table)\n",
    "            break\n",
    "        except:\n",
    "            time.sleep(5)\n",
    "            continue\n",
    "            \n",
    "    \n",
    "    response = table.put_item(\n",
    "           Item={\n",
    "                'node_id': str(get_instance_ID()),\n",
    "                'node_dns': get_public_DNS(),\n",
    "                'message_q': f'{get_instance_ID()}.fifo',\n",
    "                'role': 'user',\n",
    "            }\n",
    "        )\n",
    "    \n",
    "    print('Node initialized')\n"
   ]
  },
  {
   "cell_type": "code",
   "execution_count": null,
   "metadata": {},
   "outputs": [],
   "source": [
    "messages = create_sqs()"
   ]
  },
  {
   "cell_type": "code",
   "execution_count": 40,
   "metadata": {},
   "outputs": [],
   "source": []
  },
  {
   "cell_type": "code",
   "execution_count": 41,
   "metadata": {},
   "outputs": [
    {
     "data": {
      "text/plain": [
       "{'blake2b',\n",
       " 'blake2b512',\n",
       " 'blake2s',\n",
       " 'blake2s256',\n",
       " 'md4',\n",
       " 'md5',\n",
       " 'md5-sha1',\n",
       " 'mdc2',\n",
       " 'ripemd160',\n",
       " 'sha1',\n",
       " 'sha224',\n",
       " 'sha256',\n",
       " 'sha3-224',\n",
       " 'sha3-256',\n",
       " 'sha3-384',\n",
       " 'sha3-512',\n",
       " 'sha384',\n",
       " 'sha3_224',\n",
       " 'sha3_256',\n",
       " 'sha3_384',\n",
       " 'sha3_512',\n",
       " 'sha512',\n",
       " 'sha512-224',\n",
       " 'sha512-256',\n",
       " 'shake128',\n",
       " 'shake256',\n",
       " 'shake_128',\n",
       " 'shake_256',\n",
       " 'sm3',\n",
       " 'whirlpool'}"
      ]
     },
     "execution_count": 41,
     "metadata": {},
     "output_type": "execute_result"
    }
   ],
   "source": []
  },
  {
   "cell_type": "code",
   "execution_count": null,
   "metadata": {},
   "outputs": [],
   "source": []
  }
 ],
 "metadata": {
  "kernelspec": {
   "display_name": "Python 3",
   "language": "python",
   "name": "python3"
  },
  "language_info": {
   "codemirror_mode": {
    "name": "ipython",
    "version": 3
   },
   "file_extension": ".py",
   "mimetype": "text/x-python",
   "name": "python",
   "nbconvert_exporter": "python",
   "pygments_lexer": "ipython3",
   "version": "3.7.3"
  }
 },
 "nbformat": 4,
 "nbformat_minor": 4
}
