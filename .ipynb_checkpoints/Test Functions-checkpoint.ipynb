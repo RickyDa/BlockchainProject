{
 "cells": [
  {
   "cell_type": "markdown",
   "metadata": {},
   "source": [
    "# Before runing the notebook make sure u have aws configuration\n"
   ]
  },
  {
   "cell_type": "code",
   "execution_count": 30,
   "metadata": {},
   "outputs": [],
   "source": [
    "import boto3\n",
    "import botocore\n",
    "import paramiko"
   ]
  },
  {
   "cell_type": "markdown",
   "metadata": {},
   "source": [
    "# UTILS\n",
    "---\n",
    "#### Create dynamodb database"
   ]
  },
  {
   "cell_type": "code",
   "execution_count": 56,
   "metadata": {},
   "outputs": [],
   "source": [
    "\n",
    "KEYS = [('node_id','HASH','S'), ('node_dns','RANGE','S')] # (NAME, KEY_TYPE, ATTR_TYPE)\n",
    "TABLE_NAME = 'nodes'\n",
    "RW_CAPACITY = 5\n",
    "\n",
    "def create_nodes_db():\n",
    "    dynamodb = boto3.resource('dynamodb')\n",
    "    try:\n",
    "        table = dynamodb.create_table(\n",
    "                    TableName=TABLE_NAME,\n",
    "                    KeySchema=[{'AttributeName':k[0],\n",
    "                                'KeyType':k[1]} for k in KEYS],\n",
    "\n",
    "                    AttributeDefinitions=[{'AttributeName':k[0],\n",
    "                                           'AttributeType':k[2]} for k in KEYS],\n",
    "\n",
    "                    ProvisionedThroughput={\n",
    "                        'ReadCapacityUnits': RW_CAPACITY,\n",
    "                        'WriteCapacityUnits': RW_CAPACITY})\n",
    "\n",
    "\n",
    "        table.meta.client.get_waiter('table_exists').wait(TableName=TABLE_NAME)\n",
    "        return table\n",
    "    except dynamodb.exceptions.ResourceInUseException:\n",
    "#         print(f'{TABLE_NAME} DB Already exists')\n",
    "        return dynamodb.Table(TABLE_NAME)\n",
    "     \n",
    "table = create_nodes_db()"
   ]
  },
  {
   "cell_type": "markdown",
   "metadata": {},
   "source": [
    "# Create Instance \n"
   ]
  },
  {
   "cell_type": "code",
   "execution_count": 50,
   "metadata": {},
   "outputs": [
    {
     "name": "stdout",
     "output_type": "stream",
     "text": [
      "ec2 Created Successfully\n"
     ]
    }
   ],
   "source": [
    "from botocore.exceptions import ClientError\n",
    "\n",
    "ec2 = boto3.resource('ec2','eu-central-1')\n",
    "try:\n",
    "    ec2.create_instances(\n",
    "        ImageId='ami-0c115dbd34c69a004', # Amazon Linux 2 AMI (HVM), SSD Volume Type\n",
    "        MinCount=1, # [Optional] Minimum instances to launch\n",
    "        MaxCount=1, # [Optional] Minimum instances to launch\n",
    "        InstanceType='t2.micro',\n",
    "\n",
    "        KeyName='DSKey',\n",
    "        SecurityGroups=['launch-wizard-6']\n",
    "    )\n",
    "    print(f'ec2 Created Successfully')\n",
    "except ClientError as e:\n",
    "    print(e)\n",
    "    print(f'\\nFailed to create instance')"
   ]
  },
  {
   "cell_type": "code",
   "execution_count": 55,
   "metadata": {},
   "outputs": [
    {
     "data": {
      "text/plain": [
       "['ec2-18-185-120-120.eu-central-1.compute.amazonaws.com',\n",
       " 'ec2-3-120-235-220.eu-central-1.compute.amazonaws.com',\n",
       " 'ec2-3-125-122-170.eu-central-1.compute.amazonaws.com']"
      ]
     },
     "execution_count": 55,
     "metadata": {},
     "output_type": "execute_result"
    }
   ],
   "source": [
    "def get_instances():\n",
    "    instances = []\n",
    "    ec2 = boto3.client('ec2')\n",
    "    response = ec2.describe_instances()\n",
    "\n",
    "    for res in response['Reservations']:\n",
    "        for inst in res['Instances']:\n",
    "            instances.append(inst['PublicDnsName'])\n",
    "    return instances\n",
    "get_instances()"
   ]
  },
  {
   "cell_type": "markdown",
   "metadata": {},
   "source": [
    "# Send CMD to instance to run"
   ]
  },
  {
   "cell_type": "code",
   "execution_count": 54,
   "metadata": {},
   "outputs": [
    {
     "name": "stdout",
     "output_type": "stream",
     "text": [
      "ec2-18-185-120-120.eu-central-1.compute.amazonaws.com\n",
      ".\n",
      "..\n",
      ".bash_logout\n",
      ".bash_profile\n",
      ".bashrc\n",
      ".ssh\n",
      "\n",
      "ec2-3-120-235-220.eu-central-1.compute.amazonaws.com\n",
      ".\n",
      "..\n",
      ".bash_logout\n",
      ".bash_profile\n",
      ".bashrc\n",
      ".ssh\n",
      "\n",
      "ec2-3-125-122-170.eu-central-1.compute.amazonaws.com\n",
      ".\n",
      "..\n",
      ".aws\n",
      ".bash_history\n",
      ".bash_logout\n",
      ".bash_profile\n",
      ".bashrc\n",
      ".cache\n",
      ".local\n",
      ".ssh\n",
      "\n"
     ]
    }
   ],
   "source": [
    "PATH_TO_KEY = '../DSKey.pem'\n",
    "\n",
    "def send_cmd_to_instance(instance_public_dns, cmd):\n",
    "    key = paramiko.RSAKey.from_private_key_file(PATH_TO_KEY)\n",
    "    client = paramiko.SSHClient()\n",
    "    client.set_missing_host_key_policy(paramiko.AutoAddPolicy())\n",
    "\n",
    "    try:\n",
    "        client.connect(hostname=instance_public_dns, username=\"ec2-user\", pkey=key)\n",
    "        stdin, stdout, stderr = client.exec_command(cmd)\n",
    "        print(stdout.read().decode('utf-8'))\n",
    "        client.close()\n",
    "    except Exception as e:\n",
    "        print(e)\n",
    "\n",
    "for inst in get_instances():\n",
    "    print(inst)\n",
    "    send_cmd_to_instance(instance_public_dns=inst,\n",
    "                         cmd='ls -a')       \n"
   ]
  },
  {
   "cell_type": "markdown",
   "metadata": {},
   "source": [
    "# Init Instance test\n",
    "assumptions:\n",
    " - DB: Table 'node' were created\n"
   ]
  },
  {
   "cell_type": "code",
   "execution_count": null,
   "metadata": {},
   "outputs": [],
   "source": [
    "import time\n",
    "\n",
    "myMessages = None\n",
    "# Dummy funcs\n",
    "def get_instance_ID():\n",
    "    return 2\n",
    "def get_public_DNS():\n",
    "    return '127.0.0.2'\n",
    "\n",
    "def create_sqs():\n",
    "    private_sqs_params = dict(\n",
    "      QueueName=f'{get_instance_ID()}.fifo',\n",
    "      Attributes={\n",
    "          'FifoQueue': 'True'\n",
    "      },\n",
    "    )\n",
    "    \n",
    "    # Get the service resource\n",
    "    sqs = boto3.resource('sqs')\n",
    "    return sqs.create_queue(**private_sqs_params)\n",
    "    \n",
    "def init_instance(table = 'nodes'):\n",
    "    myMessages = create_sqs()\n",
    "    dynamodb = boto3.resource('dynamodb')\n",
    "    while True:\n",
    "        try:\n",
    "            \n",
    "            table = dynamodb.Table(table)\n",
    "            break\n",
    "        except:\n",
    "            time.sleep(5)\n",
    "            continue\n",
    "            \n",
    "    \n",
    "    response = table.put_item(\n",
    "           Item={\n",
    "                'node_id': str(get_instance_ID()),\n",
    "                'node_dns': get_public_DNS(),\n",
    "                'message_q': f'{get_instance_ID()}.fifo',\n",
    "                'role': 'user',\n",
    "            }\n",
    "        )\n",
    "    \n",
    "    print('Node initialized')\n"
   ]
  },
  {
   "cell_type": "code",
   "execution_count": null,
   "metadata": {},
   "outputs": [],
   "source": [
    "messages = create_sqs()"
   ]
  },
  {
   "cell_type": "code",
   "execution_count": null,
   "metadata": {},
   "outputs": [],
   "source": [
    "init_instance()"
   ]
  }
 ],
 "metadata": {
  "kernelspec": {
   "display_name": "Python 3",
   "language": "python",
   "name": "python3"
  },
  "language_info": {
   "codemirror_mode": {
    "name": "ipython",
    "version": 3
   },
   "file_extension": ".py",
   "mimetype": "text/x-python",
   "name": "python",
   "nbconvert_exporter": "python",
   "pygments_lexer": "ipython3",
   "version": "3.7.3"
  }
 },
 "nbformat": 4,
 "nbformat_minor": 4
}
