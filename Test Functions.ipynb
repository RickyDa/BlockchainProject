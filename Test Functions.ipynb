{
 "cells": [
  {
   "cell_type": "markdown",
   "metadata": {},
   "source": [
    "# Before runing the notebook make sure u have aws configuration\n"
   ]
  },
  {
   "cell_type": "code",
   "execution_count": null,
   "metadata": {},
   "outputs": [],
   "source": [
    "import boto3 "
   ]
  },
  {
   "cell_type": "markdown",
   "metadata": {},
   "source": [
    "# UTILS\n",
    "---\n",
    "#### Create dynamodb database"
   ]
  },
  {
   "cell_type": "code",
   "execution_count": null,
   "metadata": {},
   "outputs": [],
   "source": [
    "\n",
    "KEYS = [('node_id','HASH','S'), ('node_dns','RANGE','S')] # (NAME, KEY_TYPE, ATTR_TYPE)\n",
    "TABLE_NAME = 'nodes'\n",
    "RW_CAPACITY = 5\n",
    "\n",
    "def create_nodes_db():\n",
    "    dynamodb = boto3.resource('dynamodb')\n",
    "    try:\n",
    "        table = dynamodb.create_table(\n",
    "                    TableName=TABLE_NAME,\n",
    "                    KeySchema=[{'AttributeName':k[0],\n",
    "                                'KeyType':k[1]} for k in KEYS],\n",
    "\n",
    "                    AttributeDefinitions=[{'AttributeName':k[0],\n",
    "                                           'AttributeType':k[2]} for k in KEYS],\n",
    "\n",
    "                    ProvisionedThroughput={\n",
    "                        'ReadCapacityUnits': RW_CAPACITY,\n",
    "                        'WriteCapacityUnits': RW_CAPACITY})\n",
    "\n",
    "\n",
    "        table.meta.client.get_waiter('table_exists').wait(TableName=TABLE_NAME)\n",
    "        return table\n",
    "    except dynamodb_client.exceptions.ResourceInUseException:\n",
    "#         print(f'{TABLE_NAME} DB Already exists')\n",
    "        return dynamodb.Table(TABLE_NAME)\n",
    "     \n",
    "table = create_nodes_db()"
   ]
  },
  {
   "cell_type": "markdown",
   "metadata": {},
   "source": [
    "# Init Instance test\n",
    "assumptions:\n",
    " - DB: Table 'node' were created\n"
   ]
  },
  {
   "cell_type": "code",
   "execution_count": null,
   "metadata": {},
   "outputs": [],
   "source": [
    "import time\n",
    "\n",
    "myMessages = None\n",
    "# Dummy funcs\n",
    "def get_instance_ID():\n",
    "    return 2\n",
    "def get_public_DNS():\n",
    "    return '127.0.0.2'\n",
    "\n",
    "def create_sqs():\n",
    "    private_sqs_params = dict(\n",
    "      QueueName=f'{get_instance_ID()}.fifo',\n",
    "      Attributes={\n",
    "          'FifoQueue': 'True'\n",
    "      },\n",
    "    )\n",
    "    \n",
    "    # Get the service resource\n",
    "    sqs = boto3.resource('sqs')\n",
    "    return sqs.create_queue(**private_sqs_params)\n",
    "    \n",
    "def init_instance(table = 'nodes'):\n",
    "    myMessages = create_sqs()\n",
    "    dynamodb = boto3.resource('dynamodb')\n",
    "    while True:\n",
    "        try:\n",
    "            \n",
    "            table = dynamodb.Table(table)\n",
    "            break\n",
    "        except:\n",
    "            time.sleep(5)\n",
    "            continue\n",
    "            \n",
    "    \n",
    "    response = table.put_item(\n",
    "           Item={\n",
    "                'node_id': str(get_instance_ID()),\n",
    "                'node_dns': get_public_DNS(),\n",
    "                'message_q': f'{get_instance_ID()}.fifo',\n",
    "                'role': 'user',\n",
    "            }\n",
    "        )\n",
    "    \n",
    "    print('Node initialized')\n"
   ]
  },
  {
   "cell_type": "code",
   "execution_count": null,
   "metadata": {},
   "outputs": [],
   "source": [
    "messages = create_sqs()"
   ]
  },
  {
   "cell_type": "code",
   "execution_count": null,
   "metadata": {},
   "outputs": [],
   "source": [
    "init_instance()"
   ]
  }
 ],
 "metadata": {
  "kernelspec": {
   "display_name": "Python 3",
   "language": "python",
   "name": "python3"
  },
  "language_info": {
   "codemirror_mode": {
    "name": "ipython",
    "version": 3
   },
   "file_extension": ".py",
   "mimetype": "text/x-python",
   "name": "python",
   "nbconvert_exporter": "python",
   "pygments_lexer": "ipython3",
   "version": "3.7.3"
  }
 },
 "nbformat": 4,
 "nbformat_minor": 4
}
