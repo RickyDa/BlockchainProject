{
 "cells": [
  {
   "cell_type": "markdown",
   "metadata": {},
   "source": [
    "# Before runing the notebook make sure u have aws configuration\n",
    ">- Edit Access key ID\n",
    "- Edit Secret access key\n"
   ]
  },
  {
   "cell_type": "code",
   "execution_count": 1,
   "metadata": {},
   "outputs": [],
   "source": [
    "import boto3\n",
    "import botocore\n",
    "import paramiko"
   ]
  },
  {
   "cell_type": "markdown",
   "metadata": {},
   "source": [
    "# Initialize network\n",
    "---\n",
    "# Create dynamodb database"
   ]
  },
  {
   "cell_type": "code",
   "execution_count": 7,
   "metadata": {},
   "outputs": [
    {
     "name": "stdout",
     "output_type": "stream",
     "text": [
      "users DB Already exists\n"
     ]
    }
   ],
   "source": [
    "\n",
    "# KEYS = [('user_id','HASH','S'), ('user_email','RANGE','S')] # (COL_NAME, KEY_TYPE, ATTR_TYPE)\n",
    "\n",
    "KEYS = [('user_email','HASH','S')] # (COL_NAME, KEY_TYPE, ATTR_TYPE)\n",
    "TABLE_NAME = 'users'\n",
    "RW_CAPACITY = 10\n",
    "\n",
    "def create_nodes_db(table_name):\n",
    "    dynamodb = boto3.resource('dynamodb')\n",
    "    try:\n",
    "        table = dynamodb.create_table(\n",
    "                    TableName=table_name,\n",
    "                    KeySchema=[{'AttributeName':k[0],\n",
    "                                'KeyType':k[1]} for k in KEYS],\n",
    "\n",
    "                    AttributeDefinitions=[{'AttributeName':k[0],\n",
    "                                           'AttributeType':k[2]} for k in KEYS],\n",
    "\n",
    "                    ProvisionedThroughput={\n",
    "                        'ReadCapacityUnits': RW_CAPACITY,\n",
    "                        'WriteCapacityUnits': RW_CAPACITY})\n",
    "\n",
    "\n",
    "        table.meta.client.get_waiter('table_exists').wait(TableName=TABLE_NAME)\n",
    "        return table\n",
    "    except dynamodb.meta.client.exceptions.ResourceInUseException:\n",
    "        print(f'{TABLE_NAME} DB Already exists')\n",
    "        return dynamodb.Table(TABLE_NAME)\n",
    "     \n",
    "table = create_nodes_db(TABLE_NAME)"
   ]
  },
  {
   "cell_type": "markdown",
   "metadata": {},
   "source": [
    "---"
   ]
  },
  {
   "cell_type": "markdown",
   "metadata": {},
   "source": [
    "# Create users"
   ]
  },
  {
   "cell_type": "code",
   "execution_count": 8,
   "metadata": {},
   "outputs": [],
   "source": [
    "from user_controller import User, create_user"
   ]
  },
  {
   "cell_type": "code",
   "execution_count": 9,
   "metadata": {},
   "outputs": [],
   "source": [
    "\n",
    "\n",
    "users = [User(user_email='ricky@gmail.com', first_name='ricky', last_name='dan', amount=1000, password='1234567'),\n",
    "        User(user_email='dorel@gmail.com', first_name='dorel', last_name='sho', amount=1000, password='1234567'), \n",
    "        User(user_email='itay@gmail.com', first_name='itay', last_name='zei', amount=1000, password='1234567')]\n",
    "\n",
    "for user in users:\n",
    "    create_user(user)"
   ]
  },
  {
   "cell_type": "markdown",
   "metadata": {},
   "source": [
    "# Get All users"
   ]
  },
  {
   "cell_type": "code",
   "execution_count": 10,
   "metadata": {},
   "outputs": [
    {
     "data": {
      "text/plain": [
       "[user_email:dorel@gmail.com, first_name:dorel, last_name:sho, password:1234567, ammount:1000,\n",
       " user_email:ricky@gmail.com, first_name:ricky, last_name:dan, password:1234567, ammount:1000,\n",
       " user_email:itay@gmail.com, first_name:itay, last_name:zei, password:1234567, ammount:1000]"
      ]
     },
     "execution_count": 10,
     "metadata": {},
     "output_type": "execute_result"
    }
   ],
   "source": [
    "from user_controller import get_all_users\n",
    "\n",
    "users = get_all_users()\n",
    "users"
   ]
  },
  {
   "cell_type": "markdown",
   "metadata": {},
   "source": [
    "# Get users by key"
   ]
  },
  {
   "cell_type": "code",
   "execution_count": 11,
   "metadata": {},
   "outputs": [
    {
     "data": {
      "text/plain": [
       "user_email:ricky@gmail.com, first_name:ricky, last_name:dan, password:1234567, ammount:1000"
      ]
     },
     "execution_count": 11,
     "metadata": {},
     "output_type": "execute_result"
    }
   ],
   "source": [
    "from user_controller import get_users_by_key\n",
    "\n",
    "key = 'ricky@gmail.com'\n",
    "get_users_by_key(key=key)"
   ]
  },
  {
   "cell_type": "markdown",
   "metadata": {},
   "source": [
    "# Update user"
   ]
  },
  {
   "cell_type": "code",
   "execution_count": 12,
   "metadata": {},
   "outputs": [
    {
     "data": {
      "text/plain": [
       "user_email:itay@gmail.com, first_name:itay, last_name:zei, password:1234567, ammount:3000"
      ]
     },
     "execution_count": 12,
     "metadata": {},
     "output_type": "execute_result"
    }
   ],
   "source": [
    "from user_controller import update_user\n",
    "\n",
    "key = 'itay@gmail.com'\n",
    "u_user = get_users_by_key(key)\n",
    "u_user.amount = 3000\n",
    "update_user(u_user)  "
   ]
  },
  {
   "cell_type": "markdown",
   "metadata": {},
   "source": [
    "# Delete User by key"
   ]
  },
  {
   "cell_type": "code",
   "execution_count": 13,
   "metadata": {},
   "outputs": [
    {
     "data": {
      "text/plain": [
       "[user_email:dorel@gmail.com, first_name:dorel, last_name:sho, password:1234567, ammount:1000,\n",
       " user_email:itay@gmail.com, first_name:itay, last_name:zei, password:1234567, ammount:3000]"
      ]
     },
     "execution_count": 13,
     "metadata": {},
     "output_type": "execute_result"
    }
   ],
   "source": [
    "from user_controller import delete_user\n",
    "\n",
    "key = 'ricky@gmail.com'\n",
    "delete_user(key)\n",
    "get_all_users()"
   ]
  },
  {
   "cell_type": "markdown",
   "metadata": {},
   "source": [
    "# Transacations"
   ]
  },
  {
   "cell_type": "markdown",
   "metadata": {},
   "source": [
    "# Create Transcation DB"
   ]
  },
  {
   "cell_type": "code",
   "execution_count": 26,
   "metadata": {},
   "outputs": [
    {
     "name": "stdout",
     "output_type": "stream",
     "text": [
      "transactions DB Already exists\n"
     ]
    }
   ],
   "source": [
    "KEYS = [('transaction_id','HASH','S')] # (COL_NAME, KEY_TYPE, ATTR_TYPE)\n",
    "TABLE_NAME = 'transactions'\n",
    "RW_CAPACITY = 10\n",
    "\n",
    "table = create_nodes_db(TABLE_NAME)"
   ]
  },
  {
   "cell_type": "markdown",
   "metadata": {},
   "source": [
    "# Create Transaction"
   ]
  },
  {
   "cell_type": "code",
   "execution_count": 15,
   "metadata": {},
   "outputs": [],
   "source": [
    "from transaction_controller import create_transaction, Transaction"
   ]
  },
  {
   "cell_type": "code",
   "execution_count": 16,
   "metadata": {},
   "outputs": [],
   "source": [
    "create_transaction(Transaction(src='dorel@gmail.com', dst='ricky@gmail.com', amount=40));"
   ]
  },
  {
   "cell_type": "markdown",
   "metadata": {},
   "source": [
    "# Get Transaction by key"
   ]
  },
  {
   "cell_type": "code",
   "execution_count": null,
   "metadata": {},
   "outputs": [],
   "source": [
    "from transaction_controller import get_transaction_by_key\n",
    "\n",
    "\n",
    "get_transaction_by_key(key='2808343791251813472')"
   ]
  },
  {
   "cell_type": "markdown",
   "metadata": {},
   "source": [
    "# Get Transactions by dst"
   ]
  },
  {
   "cell_type": "code",
   "execution_count": 28,
   "metadata": {},
   "outputs": [],
   "source": [
    "from transaction_controller import get_transactions_by_dst\n"
   ]
  },
  {
   "cell_type": "code",
   "execution_count": 30,
   "metadata": {},
   "outputs": [
    {
     "name": "stdout",
     "output_type": "stream",
     "text": [
      "{'transaction_id': '-7179700992320699511', 'src': 'dorel@gmail.com', 'dst': 'itay@gmail.com', 'amount': 20, 'signed': False}\n"
     ]
    }
   ],
   "source": [
    "for e in get_transactions_by_dst('itay@gmail.com'):\n",
    "    print(e.__dict__)"
   ]
  },
  {
   "cell_type": "markdown",
   "metadata": {},
   "source": [
    "# Update Transaction"
   ]
  },
  {
   "cell_type": "code",
   "execution_count": 20,
   "metadata": {},
   "outputs": [],
   "source": [
    "from transaction_controller import update_transaction\n",
    "\n",
    "other = Transaction(transaction_id='2808343791251813472',src=None, dst=None, amount=None, signed=True)"
   ]
  },
  {
   "cell_type": "code",
   "execution_count": null,
   "metadata": {},
   "outputs": [],
   "source": [
    "update_transaction(other)"
   ]
  },
  {
   "cell_type": "code",
   "execution_count": null,
   "metadata": {},
   "outputs": [],
   "source": [
    "get_transaction_by_key('2808343791251813472')"
   ]
  },
  {
   "cell_type": "markdown",
   "metadata": {},
   "source": [
    "# Delete Transaction\n"
   ]
  },
  {
   "cell_type": "code",
   "execution_count": null,
   "metadata": {},
   "outputs": [],
   "source": [
    "from transaction_controller import delete_transaction"
   ]
  },
  {
   "cell_type": "code",
   "execution_count": null,
   "metadata": {},
   "outputs": [],
   "source": [
    "delete_transaction('2808343791251813472')"
   ]
  },
  {
   "cell_type": "code",
   "execution_count": null,
   "metadata": {},
   "outputs": [],
   "source": [
    "for e in get_transactions_by_dst('ricky@gmail.com'):\n",
    "    print(e.__dict__)"
   ]
  },
  {
   "cell_type": "markdown",
   "metadata": {},
   "source": [
    "# Make Transaction \n",
    "- ricky->dorel with amount 20"
   ]
  },
  {
   "cell_type": "code",
   "execution_count": 22,
   "metadata": {},
   "outputs": [
    {
     "data": {
      "text/plain": [
       "[user_email:dorel@gmail.com, first_name:dorel, last_name:sho, password:1234567, ammount:1000,\n",
       " user_email:itay@gmail.com, first_name:itay, last_name:zei, password:1234567, ammount:3000]"
      ]
     },
     "execution_count": 22,
     "metadata": {},
     "output_type": "execute_result"
    }
   ],
   "source": [
    "get_all_users()"
   ]
  },
  {
   "cell_type": "code",
   "execution_count": 24,
   "metadata": {},
   "outputs": [],
   "source": [
    "amount=20\n",
    "ricky = get_users_by_key(key='dorel@gmail.com')\n",
    "dorel = get_users_by_key(key='itay@gmail.com')"
   ]
  },
  {
   "cell_type": "code",
   "execution_count": 25,
   "metadata": {},
   "outputs": [],
   "source": [
    "new_tr = Transaction(src=ricky.user_email, dst=dorel.user_email, amount=20)\n",
    "create_transaction(new_tr);"
   ]
  },
  {
   "cell_type": "markdown",
   "metadata": {},
   "source": [
    "# Sign transactio\n",
    "dorel+20->ricky-20"
   ]
  },
  {
   "cell_type": "code",
   "execution_count": null,
   "metadata": {},
   "outputs": [],
   "source": [
    "get_transactions_by_dst(dorel.user_email)"
   ]
  },
  {
   "cell_type": "code",
   "execution_count": null,
   "metadata": {},
   "outputs": [],
   "source": [
    "\n",
    "other = Transaction(transaction_id='3538720164617471173',src=None, dst=None, amount=20, signed=True)\n",
    "u_ricky = get_users_by_key(key='ricky@gmail.com')\n",
    "u_dorel = get_users_by_key(key='dorel@gmail.com')\n",
    "u_ricky.amount-=20\n",
    "u_dorel.amount+=20\n",
    "update_user(u_ricky)\n",
    "update_user(u_dorel)\n",
    "update_transaction(other)\n",
    "# send signed tio master"
   ]
  },
  {
   "cell_type": "code",
   "execution_count": null,
   "metadata": {},
   "outputs": [],
   "source": [
    "get_all_users()"
   ]
  },
  {
   "cell_type": "code",
   "execution_count": null,
   "metadata": {},
   "outputs": [],
   "source": [
    "u_dorel"
   ]
  },
  {
   "cell_type": "markdown",
   "metadata": {},
   "source": [
    "----------"
   ]
  },
  {
   "cell_type": "markdown",
   "metadata": {},
   "source": [
    "# Create buckets \n",
    "\n",
    "- **blockchain-utils** - files to run on launch\n",
    "    - upload the file init files to the buckets\n",
    "    - NOTE: Maybe image is all we need\n",
    "- **blocks** - where the blocks will be stored"
   ]
  },
  {
   "cell_type": "code",
   "execution_count": null,
   "metadata": {},
   "outputs": [],
   "source": [
    "def create_bucket(bucket_name, region='eu-central-1'):\n",
    "    # Create bucket\n",
    "    try:\n",
    "        s3_client = boto3.client('s3', region_name=region)\n",
    "        location = {'LocationConstraint': region}\n",
    "        s3_client.create_bucket(Bucket=bucket_name,\n",
    "                                CreateBucketConfiguration=location)\n",
    "    except ClientError as e:\n",
    "        print(e)\n",
    "        return False\n",
    "    return True\n",
    "\n",
    "# create_bucket('blockchain-utils')\n",
    "create_bucket('ds-blocks')"
   ]
  },
  {
   "cell_type": "markdown",
   "metadata": {},
   "source": [
    "# Create SQS \n",
    "- Ledger - where the signed transcation will be stored"
   ]
  },
  {
   "cell_type": "code",
   "execution_count": null,
   "metadata": {},
   "outputs": [],
   "source": [
    "def create_ledger_sqs(name='ledger'):\n",
    "    sqs = boto3.resource('sqs')\n",
    "    \n",
    "    private_sqs_params = dict(\n",
    "      QueueName=f'{name}.fifo',\n",
    "      Attributes={\n",
    "          'FifoQueue': 'True'\n",
    "      },\n",
    "    )\n",
    "    return sqs.create_queue(**private_sqs_params)\n",
    "\n",
    "ledger = create_ledger_sqs()\n",
    "ledger.url"
   ]
  },
  {
   "cell_type": "markdown",
   "metadata": {},
   "source": [
    "# Create N user Instances\n",
    "- crteate an image including python3 and boto3 \n"
   ]
  },
  {
   "cell_type": "code",
   "execution_count": null,
   "metadata": {},
   "outputs": [],
   "source": [
    "from botocore.exceptions import ClientError\n",
    "N = 4\n",
    "IMAGE_ID = 'ami-07e0b9cd44928fe2f' # Amazon Linux 2 AMI (HVM), SSD Volume Type (My AMI)\n",
    "KEY_NAME = 'DSKey' # edit to your name of <key-name>.pem file\n",
    "SECURITY_GROUP = ['launch-wizard-6']"
   ]
  },
  {
   "cell_type": "code",
   "execution_count": null,
   "metadata": {},
   "outputs": [],
   "source": [
    "ec2 = boto3.resource('ec2')\n",
    "response = ec2.create_instances(\n",
    "            ImageId=IMAGE_ID,\n",
    "            MinCount=1, # [Optional] Minimum instances to launch\n",
    "            MaxCount=1, # [Optional] Maximum instances to launch\n",
    "            InstanceType='t2.micro',\n",
    "            KeyName=KEY_NAME,\n",
    "            SecurityGroups=SECURITY_GROUP\n",
    "        )\n"
   ]
  },
  {
   "cell_type": "code",
   "execution_count": null,
   "metadata": {},
   "outputs": [],
   "source": []
  },
  {
   "cell_type": "code",
   "execution_count": null,
   "metadata": {},
   "outputs": [],
   "source": [
    "response[0].wait_until_running"
   ]
  },
  {
   "cell_type": "code",
   "execution_count": null,
   "metadata": {},
   "outputs": [],
   "source": [
    "\n",
    "def create_instance(n_count=N):\n",
    "    ec2 = boto3.resource('ec2')\n",
    "\n",
    "    try:\n",
    "        ec2.create_instances(\n",
    "            ImageId=IMAGE_ID,\n",
    "            MinCount=n_count, # [Optional] Minimum instances to launch\n",
    "            MaxCount=n_count, # [Optional] Maximum instances to launch\n",
    "            InstanceType='t2.micro',\n",
    "            KeyName=KEY_NAME,\n",
    "            SecurityGroups=SECURITY_GROUP\n",
    "        )\n",
    "        print(f'ec2 Created Successfully')\n",
    "    except ClientError as e:\n",
    "        print(e)\n",
    "        print(f'\\nFailed to create instance')\n",
    "        return False\n",
    "    return True\n",
    "\n",
    "create_instance(n_count=1)"
   ]
  },
  {
   "cell_type": "code",
   "execution_count": null,
   "metadata": {},
   "outputs": [],
   "source": [
    "def get_instances():\n",
    "    instances = []\n",
    "    ec2 = boto3.client('ec2')\n",
    "    response = ec2.describe_instances()\n",
    "\n",
    "    for res in response['Reservations']:\n",
    "        for inst in res['Instances']:\n",
    "            instances.append({'DNS': inst['PublicDnsName'],\n",
    "                              'Adress': inst['PublicIpAddress'],\n",
    "                              'ID': str(sum([int(x) for x in inst['PublicIpAddress'].split('.')]))\n",
    "                              })\n",
    "    return instances\n",
    "\n",
    "def find_higher_ranks(nodes, my_rank):\n",
    "    rv = []\n",
    "    for node in nodes:\n",
    "        if int(node['ID']) > int(my_rank):\n",
    "            rv.append(node)\n",
    "\n",
    "    return rv\n",
    "\n",
    "nodes = get_instances()\n",
    "for node in nodes:\n",
    "    print(node['ID'])\n",
    "\n",
    "find_higher_ranks(nodes,0)    "
   ]
  },
  {
   "cell_type": "code",
   "execution_count": null,
   "metadata": {},
   "outputs": [],
   "source": [
    "ec2 = boto3.client('ec2')\n",
    "response = ec2.describe_instances()\n",
    "response['Reservations']"
   ]
  },
  {
   "cell_type": "markdown",
   "metadata": {},
   "source": [
    "# Send CMD to instance to run\n"
   ]
  },
  {
   "cell_type": "code",
   "execution_count": null,
   "metadata": {},
   "outputs": [],
   "source": [
    "PATH_TO_KEY = '../DSKey.pem'\n",
    "\n",
    "def send_cmd_to_instance(instance_public_dns, cmd):\n",
    "    key = paramiko.RSAKey.from_private_key_file(PATH_TO_KEY)\n",
    "    client = paramiko.SSHClient()\n",
    "    client.set_missing_host_key_policy(paramiko.AutoAddPolicy())\n",
    "\n",
    "    try:\n",
    "        client.connect(hostname=instance_public_dns, username=\"ec2-user\", pkey=key)\n",
    "        stdin, stdout, stderr = client.exec_command(cmd)\n",
    "        print(stdout.read().decode('utf-8'))\n",
    "        client.close()\n",
    "    except Exception as e:\n",
    "        print(e)\n",
    "\n",
    "for inst in get_instances():\n",
    "    if inst != '':\n",
    "        print(inst)\n",
    "        send_cmd_to_instance(instance_public_dns=inst,\n",
    "                             cmd='python3 init_user_instance.py')       \n"
   ]
  },
  {
   "cell_type": "markdown",
   "metadata": {},
   "source": [
    "# Init Instance test\n",
    "assumptions:\n",
    " - DB: Table 'node' were created\n"
   ]
  },
  {
   "cell_type": "code",
   "execution_count": null,
   "metadata": {},
   "outputs": [],
   "source": [
    "import time\n",
    "\n",
    "myMessages = None\n",
    "# Dummy funcs\n",
    "def get_instance_ID():\n",
    "    return 2\n",
    "def get_public_DNS():\n",
    "    return '127.0.0.2'\n",
    "\n",
    "def create_sqs():\n",
    "    private_sqs_params = dict(\n",
    "      QueueName=f'{get_instance_ID()}.fifo',\n",
    "      Attributes={\n",
    "          'FifoQueue': 'True'\n",
    "      },\n",
    "    )\n",
    "    \n",
    "    # Get the service resource\n",
    "    sqs = boto3.resource('sqs')\n",
    "    return sqs.create_queue(**private_sqs_params)\n",
    "    \n",
    "def init_instance(table = 'nodes'):\n",
    "#     myMessages = create_sqs()\n",
    "    dynamodb = boto3.resource('dynamodb')\n",
    "    while True:\n",
    "        try:\n",
    "            \n",
    "            table = dynamodb.Table(table)\n",
    "            break\n",
    "        except:\n",
    "            time.sleep(5)\n",
    "            continue\n",
    "            \n",
    "    \n",
    "    response = table.put_item(\n",
    "           Item={\n",
    "                'node_id': str(get_instance_ID()),\n",
    "                'node_dns': get_public_DNS(),\n",
    "                'message_q': f'{get_instance_ID()}.fifo',\n",
    "                'role': 'user',\n",
    "            }\n",
    "        )\n",
    "    \n",
    "    print('Node initialized')\n"
   ]
  },
  {
   "cell_type": "markdown",
   "metadata": {},
   "source": [
    "# Suggestions:"
   ]
  },
  {
   "cell_type": "code",
   "execution_count": null,
   "metadata": {},
   "outputs": [],
   "source": [
    "def print_menu():\n",
    "    print(f'1) make transaction:')\n",
    "\n",
    "print_menu()   \n",
    "val=''\n",
    "while val != 'close':\n",
    "    val = input(\"Enter your value: \") \n",
    "    print(val)\n"
   ]
  },
  {
   "cell_type": "markdown",
   "metadata": {},
   "source": [
    "- Flask"
   ]
  },
  {
   "cell_type": "code",
   "execution_count": null,
   "metadata": {},
   "outputs": [],
   "source": []
  }
 ],
 "metadata": {
  "kernelspec": {
   "display_name": "Python 3",
   "language": "python",
   "name": "python3"
  },
  "language_info": {
   "codemirror_mode": {
    "name": "ipython",
    "version": 3
   },
   "file_extension": ".py",
   "mimetype": "text/x-python",
   "name": "python",
   "nbconvert_exporter": "python",
   "pygments_lexer": "ipython3",
   "version": "3.7.3"
  }
 },
 "nbformat": 4,
 "nbformat_minor": 4
}
